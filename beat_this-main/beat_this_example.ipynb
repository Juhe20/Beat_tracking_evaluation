{
 "nbformat": 4,
 "nbformat_minor": 0,
 "metadata": {
  "colab": {
   "provenance": [],
   "authorship_tag": "ABX9TyOW4OkTmphTrvw2IQLr+kxP",
   "include_colab_link": true
  },
  "kernelspec": {
   "name": "python3",
   "display_name": "Python 3 (ipykernel)",
   "language": "python"
  },
  "language_info": {
   "name": "python"
  }
 },
 "cells": [
  {
   "cell_type": "markdown",
   "metadata": {
    "id": "view-in-github",
    "colab_type": "text"
   },
   "source": [
    "<a href=\"https://colab.research.google.com/github/CPJKU/beat_this/blob/main/beat_this_example.ipynb\" target=\"_parent\"><img src=\"https://colab.research.google.com/assets/colab-badge.svg\" alt=\"Open In Colab\"/></a>"
   ]
  },
  {
   "cell_type": "markdown",
   "source": [
    "# Beat This! inference example\n",
    "\n",
    "We first need to install and load the package."
   ],
   "metadata": {
    "id": "87X_GXfoGwmj"
   }
  },
  {
   "cell_type": "code",
   "metadata": {
    "id": "sxhsMCKdLOLO",
    "collapsed": true,
    "ExecuteTime": {
     "end_time": "2025-04-17T08:37:18.948119Z",
     "start_time": "2025-04-17T08:37:09.403874Z"
    }
   },
   "source": [
    "# install the beat_this package\n",
    "!pip install https://github.com/CPJKU/beat_this/archive/main.zip\n",
    "\n",
    "# load the Python class for beat tracking\n",
    "from beat_this.inference import File2Beats\n",
    "from beat_this.inference import File2File"
   ],
   "outputs": [
    {
     "name": "stdout",
     "output_type": "stream",
     "text": [
      "Collecting https://github.com/CPJKU/beat_this/archive/main.zip\n",
      "  Downloading https://github.com/CPJKU/beat_this/archive/main.zip\n",
      "     | 5.0 MB 8.6 MB/s 0:00:00\n",
      "  Preparing metadata (setup.py): started\n",
      "  Preparing metadata (setup.py): finished with status 'done'\n",
      "Requirement already satisfied: numpy in c:\\users\\eriks\\anaconda3\\lib\\site-packages (from beat-this==0.1) (1.20.3)\n",
      "Requirement already satisfied: torch>=2 in c:\\users\\eriks\\anaconda3\\lib\\site-packages (from beat-this==0.1) (2.0.0)\n",
      "Requirement already satisfied: torchaudio in c:\\users\\eriks\\anaconda3\\lib\\site-packages (from beat-this==0.1) (2.0.0)\n",
      "Requirement already satisfied: einops in c:\\users\\eriks\\anaconda3\\lib\\site-packages (from beat-this==0.1) (0.8.1)\n",
      "Requirement already satisfied: rotary-embedding-torch in c:\\users\\eriks\\anaconda3\\lib\\site-packages (from beat-this==0.1) (0.8.6)\n",
      "Requirement already satisfied: soxr in c:\\users\\eriks\\anaconda3\\lib\\site-packages (from beat-this==0.1) (0.5.0.post1)\n",
      "Requirement already satisfied: filelock in c:\\users\\eriks\\anaconda3\\lib\\site-packages (from torch>=2->beat-this==0.1) (3.6.0)\n",
      "Requirement already satisfied: typing-extensions in c:\\users\\eriks\\anaconda3\\lib\\site-packages (from torch>=2->beat-this==0.1) (4.3.0)\n",
      "Requirement already satisfied: sympy in c:\\users\\eriks\\anaconda3\\lib\\site-packages (from torch>=2->beat-this==0.1) (1.10.1)\n",
      "Requirement already satisfied: networkx in c:\\users\\eriks\\anaconda3\\lib\\site-packages (from torch>=2->beat-this==0.1) (2.8.4)\n",
      "Requirement already satisfied: jinja2 in c:\\users\\eriks\\anaconda3\\lib\\site-packages (from torch>=2->beat-this==0.1) (2.11.3)\n",
      "Requirement already satisfied: MarkupSafe>=0.23 in c:\\users\\eriks\\anaconda3\\lib\\site-packages (from jinja2->torch>=2->beat-this==0.1) (2.0.1)\n",
      "Requirement already satisfied: mpmath>=0.19 in c:\\users\\eriks\\anaconda3\\lib\\site-packages (from sympy->torch>=2->beat-this==0.1) (1.2.1)\n",
      "Building wheels for collected packages: beat-this\n",
      "  Building wheel for beat-this (setup.py): started\n",
      "  Building wheel for beat-this (setup.py): finished with status 'done'\n",
      "  Created wheel for beat-this: filename=beat_this-0.1-py3-none-any.whl size=39315 sha256=6a4a510af48f9ba903416aa76e433c4d4f7dbd9bf6727c99aefa1c5d7aaf7940\n",
      "  Stored in directory: C:\\Users\\eriks\\AppData\\Local\\Temp\\pip-ephem-wheel-cache-xr8fp55t\\wheels\\f1\\a7\\69\\cb70b463275251f060ce36ccb8fac944c5d0ab894acb3b2da2\n",
      "Successfully built beat-this\n",
      "Installing collected packages: beat-this\n",
      "Successfully installed beat-this-0.1\n"
     ]
    },
    {
     "ename": "TypeError",
     "evalue": "unsupported operand type(s) for |: 'type' and 'NoneType'",
     "output_type": "error",
     "traceback": [
      "\u001B[1;31m---------------------------------------------------------------------------\u001B[0m",
      "\u001B[1;31mTypeError\u001B[0m                                 Traceback (most recent call last)",
      "\u001B[1;32m~\\AppData\\Local\\Temp\\ipykernel_2492\\1635132640.py\u001B[0m in \u001B[0;36m<module>\u001B[1;34m\u001B[0m\n\u001B[0;32m      3\u001B[0m \u001B[1;33m\u001B[0m\u001B[0m\n\u001B[0;32m      4\u001B[0m \u001B[1;31m# load the Python class for beat tracking\u001B[0m\u001B[1;33m\u001B[0m\u001B[1;33m\u001B[0m\u001B[0m\n\u001B[1;32m----> 5\u001B[1;33m \u001B[1;32mfrom\u001B[0m \u001B[0mbeat_this\u001B[0m\u001B[1;33m.\u001B[0m\u001B[0minference\u001B[0m \u001B[1;32mimport\u001B[0m \u001B[0mFile2Beats\u001B[0m\u001B[1;33m\u001B[0m\u001B[1;33m\u001B[0m\u001B[0m\n\u001B[0m\u001B[0;32m      6\u001B[0m \u001B[1;32mfrom\u001B[0m \u001B[0mbeat_this\u001B[0m\u001B[1;33m.\u001B[0m\u001B[0minference\u001B[0m \u001B[1;32mimport\u001B[0m \u001B[0mFile2File\u001B[0m\u001B[1;33m\u001B[0m\u001B[1;33m\u001B[0m\u001B[0m\n",
      "\u001B[1;32m~\\Desktop\\TESt\\Beat_tracking_evaluation\\beat_this-main\\beat_this\\inference.py\u001B[0m in \u001B[0;36m<module>\u001B[1;34m\u001B[0m\n\u001B[0;32m      6\u001B[0m \u001B[1;32mimport\u001B[0m \u001B[0mtorch\u001B[0m\u001B[1;33m.\u001B[0m\u001B[0mnn\u001B[0m\u001B[1;33m.\u001B[0m\u001B[0mfunctional\u001B[0m \u001B[1;32mas\u001B[0m \u001B[0mF\u001B[0m\u001B[1;33m\u001B[0m\u001B[1;33m\u001B[0m\u001B[0m\n\u001B[0;32m      7\u001B[0m \u001B[1;33m\u001B[0m\u001B[0m\n\u001B[1;32m----> 8\u001B[1;33m \u001B[1;32mfrom\u001B[0m \u001B[0mbeat_this\u001B[0m\u001B[1;33m.\u001B[0m\u001B[0mmodel\u001B[0m\u001B[1;33m.\u001B[0m\u001B[0mbeat_tracker\u001B[0m \u001B[1;32mimport\u001B[0m \u001B[0mBeatThis\u001B[0m\u001B[1;33m\u001B[0m\u001B[1;33m\u001B[0m\u001B[0m\n\u001B[0m\u001B[0;32m      9\u001B[0m \u001B[1;32mfrom\u001B[0m \u001B[0mbeat_this\u001B[0m\u001B[1;33m.\u001B[0m\u001B[0mmodel\u001B[0m\u001B[1;33m.\u001B[0m\u001B[0mpostprocessor\u001B[0m \u001B[1;32mimport\u001B[0m \u001B[0mPostprocessor\u001B[0m\u001B[1;33m\u001B[0m\u001B[1;33m\u001B[0m\u001B[0m\n\u001B[0;32m     10\u001B[0m \u001B[1;32mfrom\u001B[0m \u001B[0mbeat_this\u001B[0m\u001B[1;33m.\u001B[0m\u001B[0mpreprocessing\u001B[0m \u001B[1;32mimport\u001B[0m \u001B[0mLogMelSpect\u001B[0m\u001B[1;33m,\u001B[0m \u001B[0mload_audio\u001B[0m\u001B[1;33m\u001B[0m\u001B[1;33m\u001B[0m\u001B[0m\n",
      "\u001B[1;32m~\\Desktop\\TESt\\Beat_tracking_evaluation\\beat_this-main\\beat_this\\model\\beat_tracker.py\u001B[0m in \u001B[0;36m<module>\u001B[1;34m\u001B[0m\n\u001B[0;32m     15\u001B[0m \u001B[1;33m\u001B[0m\u001B[0m\n\u001B[0;32m     16\u001B[0m \u001B[1;33m\u001B[0m\u001B[0m\n\u001B[1;32m---> 17\u001B[1;33m \u001B[1;32mclass\u001B[0m \u001B[0mBeatThis\u001B[0m\u001B[1;33m(\u001B[0m\u001B[0mnn\u001B[0m\u001B[1;33m.\u001B[0m\u001B[0mModule\u001B[0m\u001B[1;33m)\u001B[0m\u001B[1;33m:\u001B[0m\u001B[1;33m\u001B[0m\u001B[1;33m\u001B[0m\u001B[0m\n\u001B[0m\u001B[0;32m     18\u001B[0m     \"\"\"\n\u001B[0;32m     19\u001B[0m     \u001B[0mA\u001B[0m \u001B[0mneural\u001B[0m \u001B[0mnetwork\u001B[0m \u001B[0mmodel\u001B[0m \u001B[1;32mfor\u001B[0m \u001B[0mbeat\u001B[0m \u001B[0mtracking\u001B[0m\u001B[1;33m.\u001B[0m \u001B[0mIt\u001B[0m \u001B[1;32mis\u001B[0m \u001B[0mcomposed\u001B[0m \u001B[0mof\u001B[0m \u001B[0mthree\u001B[0m \u001B[0mmain\u001B[0m \u001B[0mcomponents\u001B[0m\u001B[1;33m:\u001B[0m\u001B[1;33m\u001B[0m\u001B[1;33m\u001B[0m\u001B[0m\n",
      "\u001B[1;32m~\\Desktop\\TESt\\Beat_tracking_evaluation\\beat_this-main\\beat_this\\model\\beat_tracker.py\u001B[0m in \u001B[0;36mBeatThis\u001B[1;34m()\u001B[0m\n\u001B[0;32m    130\u001B[0m         \u001B[0mout_dim\u001B[0m\u001B[1;33m:\u001B[0m \u001B[0mint\u001B[0m\u001B[1;33m,\u001B[0m\u001B[1;33m\u001B[0m\u001B[1;33m\u001B[0m\u001B[0m\n\u001B[0;32m    131\u001B[0m         \u001B[0mpartial_transformers\u001B[0m\u001B[1;33m:\u001B[0m \u001B[0mbool\u001B[0m \u001B[1;33m=\u001B[0m \u001B[1;32mTrue\u001B[0m\u001B[1;33m,\u001B[0m\u001B[1;33m\u001B[0m\u001B[1;33m\u001B[0m\u001B[0m\n\u001B[1;32m--> 132\u001B[1;33m         \u001B[0mhead_dim\u001B[0m\u001B[1;33m:\u001B[0m \u001B[0mint\u001B[0m \u001B[1;33m|\u001B[0m \u001B[1;32mNone\u001B[0m \u001B[1;33m=\u001B[0m \u001B[1;36m32\u001B[0m\u001B[1;33m,\u001B[0m\u001B[1;33m\u001B[0m\u001B[1;33m\u001B[0m\u001B[0m\n\u001B[0m\u001B[0;32m    133\u001B[0m         \u001B[0mrotary_embed\u001B[0m\u001B[1;33m:\u001B[0m \u001B[0mRotaryEmbedding\u001B[0m \u001B[1;33m|\u001B[0m \u001B[1;32mNone\u001B[0m \u001B[1;33m=\u001B[0m \u001B[1;32mNone\u001B[0m\u001B[1;33m,\u001B[0m\u001B[1;33m\u001B[0m\u001B[1;33m\u001B[0m\u001B[0m\n\u001B[0;32m    134\u001B[0m         \u001B[0mdropout\u001B[0m\u001B[1;33m:\u001B[0m \u001B[0mfloat\u001B[0m \u001B[1;33m=\u001B[0m \u001B[1;36m0.1\u001B[0m\u001B[1;33m,\u001B[0m\u001B[1;33m\u001B[0m\u001B[1;33m\u001B[0m\u001B[0m\n",
      "\u001B[1;31mTypeError\u001B[0m: unsupported operand type(s) for |: 'type' and 'NoneType'"
     ]
    }
   ],
   "execution_count": 1
  },
  {
   "cell_type": "markdown",
   "source": [
    "## Run on demo file\n",
    "\n",
    "Now that all the dependencies have been installed and imported, let's run our system.\n",
    "\n",
    "In the next cell we:\n",
    "- define the audio file we want to use as input. For now we use the example provided in the beat_this repo, but this can be changed (see instructions later);\n",
    "- load the File2Beats class that produce a list of beats and downbeats given an audio file;\n",
    "- apply the class to the audio file\n",
    "- print the position in seconds of the first 20 beats and first 20 downbeats.\n"
   ],
   "metadata": {
    "id": "_0oYbH6P6Ji7"
   }
  },
  {
   "cell_type": "code",
   "source": [
    "!wget -c \"https://github.com/CPJKU/beat_this/raw/main/tests/It%20Don't%20Mean%20A%20Thing%20-%20Kings%20of%20Swing.mp3\"\n",
    "audio_path = \"/content/It Don't Mean A Thing - Kings of Swing.mp3\"\n",
    "\n",
    "file2beats = File2Beats(checkpoint_path=\"final0\", dbn=False)\n",
    "beats, downbeats = file2beats(audio_path)\n",
    "\n",
    "print(\"First 20 beats\", beats[:20])\n",
    "print(\"First 20 downbeats\", downbeats[:20])"
   ],
   "metadata": {
    "id": "DHT6v-a-TbZx"
   },
   "execution_count": null,
   "outputs": []
  },
  {
   "cell_type": "markdown",
   "source": [
    "We can sonify the beats and downbeats as click on top of the audio file."
   ],
   "metadata": {
    "id": "lRjJFiexDGdn"
   }
  },
  {
   "cell_type": "code",
   "source": [
    "import IPython.display as ipd\n",
    "import librosa\n",
    "import numpy as np\n",
    "import soundfile as sf\n",
    "\n",
    "audio, sr = sf.read(audio_path)\n",
    "# make it mono if stereo\n",
    "if len(audio.shape) > 1:\n",
    "  audio = np.mean(audio, axis=1)\n",
    "\n",
    "# sonify the beats and downbeats\n",
    "# remove the beats that are also downbeats for a nicer sonification\n",
    "beats = [b for b in beats if b not in downbeats]\n",
    "audio_beat = librosa.clicks(times = beats, sr=sr, click_freq=1000, length=len(audio))\n",
    "audio_downbeat = librosa.clicks(times = downbeats, sr=sr, click_freq=1500, length=len(audio))\n",
    "\n",
    "ipd.display(ipd.Audio(audio + audio_beat + audio_downbeat, rate=sr))"
   ],
   "metadata": {
    "id": "otG0NS_uCXSo",
    "ExecuteTime": {
     "end_time": "2025-04-14T09:05:50.679957Z",
     "start_time": "2025-04-14T09:05:49.580159Z"
    }
   },
   "outputs": [
    {
     "ename": "NameError",
     "evalue": "name 'audio_path' is not defined",
     "output_type": "error",
     "traceback": [
      "\u001B[1;31m---------------------------------------------------------------------------\u001B[0m",
      "\u001B[1;31mNameError\u001B[0m                                 Traceback (most recent call last)",
      "Cell \u001B[1;32mIn[1], line 6\u001B[0m\n\u001B[0;32m      3\u001B[0m \u001B[38;5;28;01mimport\u001B[39;00m\u001B[38;5;250m \u001B[39m\u001B[38;5;21;01mnumpy\u001B[39;00m\u001B[38;5;250m \u001B[39m\u001B[38;5;28;01mas\u001B[39;00m\u001B[38;5;250m \u001B[39m\u001B[38;5;21;01mnp\u001B[39;00m\n\u001B[0;32m      4\u001B[0m \u001B[38;5;28;01mimport\u001B[39;00m\u001B[38;5;250m \u001B[39m\u001B[38;5;21;01msoundfile\u001B[39;00m\u001B[38;5;250m \u001B[39m\u001B[38;5;28;01mas\u001B[39;00m\u001B[38;5;250m \u001B[39m\u001B[38;5;21;01msf\u001B[39;00m\n\u001B[1;32m----> 6\u001B[0m audio, sr \u001B[38;5;241m=\u001B[39m sf\u001B[38;5;241m.\u001B[39mread(\u001B[43maudio_path\u001B[49m)\n\u001B[0;32m      7\u001B[0m \u001B[38;5;66;03m# make it mono if stereo\u001B[39;00m\n\u001B[0;32m      8\u001B[0m \u001B[38;5;28;01mif\u001B[39;00m \u001B[38;5;28mlen\u001B[39m(audio\u001B[38;5;241m.\u001B[39mshape) \u001B[38;5;241m>\u001B[39m \u001B[38;5;241m1\u001B[39m:\n",
      "\u001B[1;31mNameError\u001B[0m: name 'audio_path' is not defined"
     ]
    }
   ],
   "execution_count": 1
  },
  {
   "cell_type": "markdown",
   "source": [
    "## Run on your own file\n",
    "\n",
    "If you want to run on your own audio files follow the following instructions:\n",
    "1. Click on the folder icon in the left vertical menu.\n",
    "2. Click on the \"Upload to session storage\" icon with the upward pointing arrow.\n",
    "\n",
    "    This will add an audio file to the current colab runtime (it could take some time, and you may need to refresh the file manager using the dedicated button to see the new file). You can copy the audio path by clicking on the three dots next to the file, then \"copy path\".\n",
    "\n",
    "    For example, if you upload a file called `my_song.mp3`, the path will be `/content/my_song.mp3`.\n",
    "\n",
    "3. change the `audio_path` in the cell above with the path of your uploaded audio"
   ],
   "metadata": {
    "id": "hn83Sn1pWmt5"
   }
  },
  {
   "cell_type": "markdown",
   "source": [
    "You can also produce a list of beat and downbeat as tsv file, that you can download and import in Sonic Visualizer.\n",
    "\n",
    "To do this this, use the File2File function as below:"
   ],
   "metadata": {
    "id": "kP2gyplIEcWT"
   }
  },
  {
   "cell_type": "code",
   "source": [
    "file2file = File2File(checkpoint_path=\"final0\", dbn=False)\n",
    "file2file(audio_path,output_path=\"output.beats\")"
   ],
   "metadata": {
    "id": "kTQK-d4JEbL7"
   },
   "execution_count": null,
   "outputs": []
  },
  {
   "cell_type": "markdown",
   "source": [
    "As you can see, the system is fast enough to work in a reasonable time even on CPU.\n",
    "\n",
    "For even faster inference, you can start a GPU session in Colab!"
   ],
   "metadata": {
    "id": "1Y1d-DvXFtVz"
   }
  },
  {
   "cell_type": "markdown",
   "source": [
    "## Batch processing multiple files\n",
    "\n",
    "To process multiple of your own audio files, upload them as described above, then run the `beat_this` command line tool:"
   ],
   "metadata": {
    "id": "vpoM0RvQdAMF"
   }
  },
  {
   "cell_type": "code",
   "source": [
    "!beat_this --model final0 /content/"
   ],
   "metadata": {
    "id": "qNOLbBplc_Nq"
   },
   "execution_count": null,
   "outputs": []
  },
  {
   "cell_type": "markdown",
   "source": [
    "It will produce a `.beats` file for every audio file that you can download again."
   ],
   "metadata": {
    "id": "_xNY_9DEdSEt"
   }
  }
 ]
}
